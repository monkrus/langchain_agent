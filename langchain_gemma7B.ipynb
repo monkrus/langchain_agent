{
  "nbformat": 4,
  "nbformat_minor": 0,
  "metadata": {
    "colab": {
      "provenance": [],
      "authorship_tag": "ABX9TyMHp2wUyD9V0jXs/vcLu4y0",
      "include_colab_link": true
    },
    "kernelspec": {
      "name": "python3",
      "display_name": "Python 3"
    },
    "language_info": {
      "name": "python"
    }
  },
  "cells": [
    {
      "cell_type": "markdown",
      "metadata": {
        "id": "view-in-github",
        "colab_type": "text"
      },
      "source": [
        "<a href=\"https://colab.research.google.com/github/monkrus/mistral_langchain_agent/blob/main/langchain_gemma7B.ipynb\" target=\"_parent\"><img src=\"https://colab.research.google.com/assets/colab-badge.svg\" alt=\"Open In Colab\"/></a>"
      ]
    },
    {
      "cell_type": "code",
      "execution_count": null,
      "metadata": {
        "id": "X0DyGvx0magx"
      },
      "outputs": [],
      "source": [
        "#quitely install langchain\n",
        "!pip install -qU langchain"
      ]
    },
    {
      "cell_type": "code",
      "source": [
        "# install hugginface prereq\n",
        "!pip install -qU huggingface_hub\n",
        "\n",
        ""
      ],
      "metadata": {
        "id": "Gjn5ZxsdnKzj"
      },
      "execution_count": null,
      "outputs": []
    },
    {
      "cell_type": "code",
      "source": [
        "#get free huggingface API token at HuggingFace.co\n",
        "#click on  profile in the top-right corner > Settings > Access Tokens > New Token > set Role to write > Generate > copy and paste below\n",
        "import os\n",
        "\n",
        "os.environ['HUGGINGFACEHUB_API_TOKEN'] = 'your_token_here'\n",
        "\n"
      ],
      "metadata": {
        "id": "ZmArFw9pndN-"
      },
      "execution_count": null,
      "outputs": []
    },
    {
      "cell_type": "code",
      "source": [
        "# generate text using HF Hub model (google/flan-t5-x1)\n",
        "from langchain import PromptTemplate, HuggingFaceHub, LLMChain\n",
        "\n",
        "# initialize HF LLM\n",
        "flan_t5 = HuggingFaceHub(\n",
        "    repo_id=\"google/gemma-7b-it\",\n",
        "    model_kwargs={\"temperature\":1e-10}\n",
        ")\n",
        "\n",
        "# build prompt template for simple question-answering\n",
        "template = \"\"\"Question: {question}\n",
        "\n",
        "Answer: \"\"\"\n",
        "prompt = PromptTemplate(template=template, input_variables=[\"question\"])\n",
        "\n",
        "llm_chain = LLMChain(\n",
        "    prompt=prompt,\n",
        "    llm=flan_t5\n",
        ")\n",
        "\n",
        "question = \"last name of the singer Madonna ?\"\n",
        "\n",
        "print(llm_chain.run(question))\n"
      ],
      "metadata": {
        "id": "-41SmWPfrere"
      },
      "execution_count": null,
      "outputs": []
    }
  ]
}