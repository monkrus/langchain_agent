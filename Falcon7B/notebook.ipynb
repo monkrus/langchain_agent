{
 "cells": [
  {
   "cell_type": "code",
   "execution_count": 4,
   "metadata": {},
   "outputs": [
    {
     "data": {
      "text/plain": [
       "True"
      ]
     },
     "execution_count": 4,
     "metadata": {},
     "output_type": "execute_result"
    }
   ],
   "source": [
    "import os\n",
    "import langchain\n",
    "from langchain_community.llms import HuggingFaceHub\n",
    "from dotenv import load_dotenv, find_dotenv\n",
    "load_dotenv(find_dotenv())"
   ]
  },
  {
   "cell_type": "code",
   "execution_count": 2,
   "metadata": {},
   "outputs": [
    {
     "name": "stderr",
     "output_type": "stream",
     "text": [
      "c:\\Users\\14802\\anaconda3\\envs\\myenv\\Lib\\site-packages\\langchain_core\\_api\\deprecation.py:117: LangChainDeprecationWarning: The class `langchain_community.llms.huggingface_hub.HuggingFaceHub` was deprecated in langchain-community 0.0.21 and will be removed in 0.2.0. Use HuggingFaceEndpoint instead.\n",
      "  warn_deprecated(\n"
     ]
    },
    {
     "name": "stdout",
     "output_type": "stream",
     "text": [
      "Sherlock Holmes: The Complete Collection (Sherlock Holmes)\n",
      "Sherlock Holmes: The Complete Collection (Sherlock Holmes)\n",
      "- $9.99\n",
      "- $9.99\n",
      "- $9.99\n",
      "- $9.99\n",
      "- $9.99\n",
      "- $9.99\n",
      "- $9.99\n",
      "- $9.99\n",
      "- $9.99\n",
      "- $9.99\n",
      "- $9\n"
     ]
    }
   ],
   "source": [
    "#set up hugging face\n",
    "llm=HuggingFaceHub(repo_id=\"tiiuae/falcon-7b-instruct\")\n",
    "\n",
    "#predict the words\n",
    "query=\"Sherlock\"\n",
    "\n",
    "output= llm.invoke(query)\n",
    "\n",
    "print(output)"
   ]
  },
  {
   "cell_type": "code",
   "execution_count": null,
   "metadata": {},
   "outputs": [],
   "source": []
  },
  {
   "cell_type": "code",
   "execution_count": null,
   "metadata": {},
   "outputs": [],
   "source": []
  }
 ],
 "metadata": {
  "kernelspec": {
   "display_name": "myenv",
   "language": "python",
   "name": "python3"
  },
  "language_info": {
   "codemirror_mode": {
    "name": "ipython",
    "version": 3
   },
   "file_extension": ".py",
   "mimetype": "text/x-python",
   "name": "python",
   "nbconvert_exporter": "python",
   "pygments_lexer": "ipython3",
   "version": "3.12.2"
  }
 },
 "nbformat": 4,
 "nbformat_minor": 2
}
